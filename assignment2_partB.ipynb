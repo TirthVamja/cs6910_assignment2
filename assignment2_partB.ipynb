{
 "cells": [
  {
   "cell_type": "code",
   "execution_count": 1,
   "metadata": {},
   "outputs": [],
   "source": [
    "from torch.nn import Sequential, Module, ReLU, Conv2d, Linear, MaxPool2d, LogSoftmax, NLLLoss, Dropout, BatchNorm2d, LeakyReLU, GELU, SELU, Mish, CrossEntropyLoss\n",
    "from torchvision import transforms, datasets, models\n",
    "from torch.utils.data import DataLoader\n",
    "from torch import flatten, float, no_grad\n",
    "from torch.optim import Adam\n",
    "import torch\n",
    "import wandb\n",
    "import math"
   ]
  },
  {
   "cell_type": "code",
   "execution_count": 2,
   "metadata": {},
   "outputs": [],
   "source": [
    "def get_data(param, type):\n",
    "    if(type.lower() == 'train'):\n",
    "        transform = transforms.Compose([\n",
    "            transforms.Resize(256),\n",
    "            transforms.RandomHorizontalFlip(p=0.3),\n",
    "            transforms.RandomRotation(degrees=12),\n",
    "            transforms.ColorJitter(),\n",
    "            transforms.CenterCrop(224),\n",
    "            transforms.ToTensor(), \n",
    "            transforms.Normalize(mean = [0.485, 0.456, 0.406], std = [0.229, 0.224, 0.225])  \n",
    "        ])\n",
    "        tdataset = datasets.ImageFolder(root=param['train_data_dir'], transform=transform)\n",
    "        total = len(tdataset)\n",
    "        train_sample = math.ceil(total*(0.8))\n",
    "        val_sample = total-train_sample\n",
    "        # print(total, train_sample, val_sample)\n",
    "        train_dataset, validation_dataset = torch.utils.data.random_split(tdataset, [train_sample, val_sample])\n",
    "        train_dataloader = DataLoader(train_dataset, batch_size=param['batch_size'], shuffle=True)\n",
    "        validation_dataloader = DataLoader(validation_dataset, batch_size=param['batch_size'], shuffle=False)\n",
    "        return train_dataloader, validation_dataloader\n",
    "    \n",
    "    else:\n",
    "        transform = transforms.Compose([\n",
    "            transforms.Resize(256),\n",
    "            transforms.CenterCrop(size=224),\n",
    "            transforms.ToTensor(), \n",
    "            transforms.Normalize(mean = [0.485, 0.456, 0.406], std = [0.229, 0.224, 0.225])  \n",
    "        ])\n",
    "        test_dataset = datasets.ImageFolder(root=param['test_data_dir'], transform=transform)\n",
    "        test_dataloader = DataLoader(test_dataset, batch_size=param['batch_size'])\n",
    "        return test_dataloader"
   ]
  },
  {
   "cell_type": "markdown",
   "metadata": {},
   "source": [
    "## Transfer Learning using GoogLeNet model"
   ]
  },
  {
   "cell_type": "code",
   "execution_count": 3,
   "metadata": {},
   "outputs": [],
   "source": [
    "def train():\n",
    "\n",
    "    wandb.init()\n",
    "    param = wandb.config\n",
    "    wandb.run.name = f'GoogLeNet_strategy_{param.strategy}_batchSz_{param.batch_size}_epochs_{param.epochs}_layersToFreeze_{param.layers_to_freeze}'\n",
    "\n",
    "    device = torch.device(\"mps\" if torch.backends.mps.is_available() else \"cpu\")\n",
    "    pmodel = models.googlenet(pretrained=True)\n",
    "\n",
    "    if(param['strategy'] == 'all_freeze'):\n",
    "        num_features = pmodel.fc.in_features\n",
    "        pmodel.fc = Linear(num_features, 10)\n",
    "        for name, par in pmodel.named_parameters():\n",
    "            if name not in ['fc.weight', 'fc.bias']:\n",
    "                par.requires_grad = False\n",
    "\n",
    "    elif(param['strategy'] == 'k_freeze'):\n",
    "        layers_to_freeze = list(pmodel.children())[:param['layers_to_freeze']]\n",
    "        for x in layers_to_freeze:\n",
    "            for y in x.parameters():\n",
    "                y.requires_grad = False\n",
    "        num_features = pmodel.fc.in_features\n",
    "        pmodel.fc = Linear(num_features, 10)\n",
    "    \n",
    "    else:\n",
    "        num_features = pmodel.fc.in_features\n",
    "        pmodel.fc = Linear(num_features, 10)\n",
    "    \n",
    "    \n",
    "    pmodel = pmodel.to(device)\n",
    "    optimizer = Adam(pmodel.parameters())\n",
    "    loss_function = CrossEntropyLoss()\n",
    "    train_data_loader, validation_data_loader = get_data(param, 'train')\n",
    "\n",
    "    for epo in range(param['epochs']):\n",
    "        totalTrainLoss = 0\n",
    "        totalValLoss = 0\n",
    "        trainCorrect = 0\n",
    "        valCorrect = 0\n",
    "        train_counter=0\n",
    "        validation_counter=0\n",
    "        pmodel.train()\n",
    "        for (image, label) in train_data_loader:\n",
    "            (image, label) = (image.to(device), label.to(device))\n",
    "            prediction = pmodel(image)\n",
    "            loss = loss_function(prediction, label)\n",
    "            loss.backward()\n",
    "            optimizer.step()\n",
    "            totalTrainLoss += loss\n",
    "            trainCorrect += (prediction.argmax(1) == label).type(float).sum().item()\n",
    "            train_counter+=1\n",
    "\n",
    "        ## Validation\n",
    "        pmodel.eval()\n",
    "        with no_grad():\n",
    "            for (image, label) in validation_data_loader:\n",
    "                (image, label) = (image.to(device), label.to(device))\n",
    "                pred = pmodel(image)\n",
    "                loss = loss_function(pred, label)\n",
    "                totalValLoss += loss\n",
    "                valCorrect += (pred.argmax(1) == label).type(float).sum().item()\n",
    "                validation_counter += 1\n",
    "\n",
    "\n",
    "        tr_ls = (totalTrainLoss/train_counter).cpu().detach().numpy()\n",
    "        tr_acc = trainCorrect/len(train_data_loader.dataset)\n",
    "        val_ls = (totalValLoss/validation_counter).cpu().detach().numpy()\n",
    "        val_acc = valCorrect/len(validation_data_loader.dataset)\n",
    "\n",
    "\n",
    "        print(f\"Epoch --> {epo}\")\n",
    "        print(f\"Train Loss --> {tr_ls}\")\n",
    "        print(f\"Train Accuracy --> {tr_acc}\")\n",
    "        print(f\"Validation Loss --> {val_ls}\")\n",
    "        print(f\"Validation Accuracy --> {val_acc}\")\n",
    "        print(\"-----------------------------------------------------------\")\n",
    "        \n",
    "        lg={\n",
    "            'epoch': epo+1,\n",
    "            'tr_accuracy': tr_acc,\n",
    "            'val_accuracy': val_acc,\n",
    "            'tr_loss': tr_ls,\n",
    "            'val_loss': val_ls\n",
    "        }\n",
    "        wandb.log(lg)\n",
    "\n",
    "\n",
    "    "
   ]
  },
  {
   "cell_type": "code",
   "execution_count": 61,
   "metadata": {},
   "outputs": [],
   "source": [
    "# train()"
   ]
  },
  {
   "cell_type": "code",
   "execution_count": 4,
   "metadata": {},
   "outputs": [],
   "source": [
    "sweep_config = {\n",
    "  \"method\": \"grid\",\n",
    "  \"name\": \"PartB GoogLeNet Sweep\",\n",
    "  \"metric\": {\"goal\": \"maximize\", \"name\": \"val_accuracy\"},\n",
    "  \"parameters\": {\n",
    "    \"batch_size\":{\"values\": [32]},\n",
    "    \"epochs\":{\"values\": [10]},\n",
    "    \"strategy\":{\"values\": ['k_freeze']},  ## K freeze, No Freeze, all_freeze(except last)\n",
    "    \"layers_to_freeze\": {\"values\": [15]},\n",
    "    \"train_data_dir\":{\"values\": [\"./data/train\"]},\n",
    "    \"test_data_dir\":{\"values\": [\"./data/val\"]}\n",
    "  }\n",
    "}"
   ]
  },
  {
   "cell_type": "code",
   "execution_count": 5,
   "metadata": {},
   "outputs": [
    {
     "name": "stderr",
     "output_type": "stream",
     "text": [
      "Failed to detect the name of this notebook, you can set it manually with the WANDB_NOTEBOOK_NAME environment variable to enable code saving.\n"
     ]
    },
    {
     "name": "stdout",
     "output_type": "stream",
     "text": [
      "Create sweep with ID: 8aebzumu\n",
      "Sweep URL: https://wandb.ai/cs23m070/cs6910_assignment2/sweeps/8aebzumu\n"
     ]
    }
   ],
   "source": [
    "# wandb.init()\n",
    "sweep_id = wandb.sweep(sweep_config, project=\"cs6910_assignment2\")"
   ]
  },
  {
   "cell_type": "code",
   "execution_count": 6,
   "metadata": {},
   "outputs": [
    {
     "name": "stderr",
     "output_type": "stream",
     "text": [
      "\u001b[34m\u001b[1mwandb\u001b[0m: Agent Starting Run: fwubj5xd with config:\n",
      "\u001b[34m\u001b[1mwandb\u001b[0m: \tbatch_size: 32\n",
      "\u001b[34m\u001b[1mwandb\u001b[0m: \tepochs: 10\n",
      "\u001b[34m\u001b[1mwandb\u001b[0m: \tlayers_to_freeze: 15\n",
      "\u001b[34m\u001b[1mwandb\u001b[0m: \tstrategy: all_freeze\n",
      "\u001b[34m\u001b[1mwandb\u001b[0m: \ttest_data_dir: ./data/val\n",
      "\u001b[34m\u001b[1mwandb\u001b[0m: \ttrain_data_dir: ./data/train\n",
      "Failed to detect the name of this notebook, you can set it manually with the WANDB_NOTEBOOK_NAME environment variable to enable code saving.\n",
      "\u001b[34m\u001b[1mwandb\u001b[0m: Currently logged in as: \u001b[33mcs23m070\u001b[0m. Use \u001b[1m`wandb login --relogin`\u001b[0m to force relogin\n"
     ]
    },
    {
     "data": {
      "text/html": [
       "wandb version 0.16.5 is available!  To upgrade, please run:\n",
       " $ pip install wandb --upgrade"
      ],
      "text/plain": [
       "<IPython.core.display.HTML object>"
      ]
     },
     "metadata": {},
     "output_type": "display_data"
    },
    {
     "data": {
      "text/html": [
       "Tracking run with wandb version 0.16.4"
      ],
      "text/plain": [
       "<IPython.core.display.HTML object>"
      ]
     },
     "metadata": {},
     "output_type": "display_data"
    },
    {
     "data": {
      "text/html": [
       "Run data is saved locally in <code>/Users/tirth/Documents/SEM2/DL/assignment/A2/code/cs6910_assignment2/wandb/run-20240403_193912-fwubj5xd</code>"
      ],
      "text/plain": [
       "<IPython.core.display.HTML object>"
      ]
     },
     "metadata": {},
     "output_type": "display_data"
    },
    {
     "data": {
      "text/html": [
       "Syncing run <strong><a href='https://wandb.ai/cs23m070/cs6910_assignment2/runs/fwubj5xd' target=\"_blank\">toasty-sweep-1</a></strong> to <a href='https://wandb.ai/cs23m070/cs6910_assignment2' target=\"_blank\">Weights & Biases</a> (<a href='https://wandb.me/run' target=\"_blank\">docs</a>)<br/>Sweep page: <a href='https://wandb.ai/cs23m070/cs6910_assignment2/sweeps/8aebzumu' target=\"_blank\">https://wandb.ai/cs23m070/cs6910_assignment2/sweeps/8aebzumu</a>"
      ],
      "text/plain": [
       "<IPython.core.display.HTML object>"
      ]
     },
     "metadata": {},
     "output_type": "display_data"
    },
    {
     "data": {
      "text/html": [
       " View project at <a href='https://wandb.ai/cs23m070/cs6910_assignment2' target=\"_blank\">https://wandb.ai/cs23m070/cs6910_assignment2</a>"
      ],
      "text/plain": [
       "<IPython.core.display.HTML object>"
      ]
     },
     "metadata": {},
     "output_type": "display_data"
    },
    {
     "data": {
      "text/html": [
       " View sweep at <a href='https://wandb.ai/cs23m070/cs6910_assignment2/sweeps/8aebzumu' target=\"_blank\">https://wandb.ai/cs23m070/cs6910_assignment2/sweeps/8aebzumu</a>"
      ],
      "text/plain": [
       "<IPython.core.display.HTML object>"
      ]
     },
     "metadata": {},
     "output_type": "display_data"
    },
    {
     "data": {
      "text/html": [
       " View run at <a href='https://wandb.ai/cs23m070/cs6910_assignment2/runs/fwubj5xd' target=\"_blank\">https://wandb.ai/cs23m070/cs6910_assignment2/runs/fwubj5xd</a>"
      ],
      "text/plain": [
       "<IPython.core.display.HTML object>"
      ]
     },
     "metadata": {},
     "output_type": "display_data"
    },
    {
     "name": "stderr",
     "output_type": "stream",
     "text": [
      "/Users/tirth/anaconda3/envs/dl/lib/python3.10/site-packages/torchvision/models/_utils.py:208: UserWarning: The parameter 'pretrained' is deprecated since 0.13 and may be removed in the future, please use 'weights' instead.\n",
      "  warnings.warn(\n",
      "/Users/tirth/anaconda3/envs/dl/lib/python3.10/site-packages/torchvision/models/_utils.py:223: UserWarning: Arguments other than a weight enum or `None` for 'weights' are deprecated since 0.13 and may be removed in the future. The current behavior is equivalent to passing `weights=GoogLeNet_Weights.IMAGENET1K_V1`. You can also use `weights=GoogLeNet_Weights.DEFAULT` to get the most up-to-date weights.\n",
      "  warnings.warn(msg)\n"
     ]
    },
    {
     "name": "stdout",
     "output_type": "stream",
     "text": [
      "5,610,154 total parameters.\n",
      "10,250 training parameters.\n",
      "Epoch --> 0\n",
      "Train Loss --> 9.581089973449707\n",
      "Train Accuracy --> 0.30225\n",
      "Validation Loss --> 19.375024795532227\n",
      "Validation Accuracy --> 0.2896448224112056\n",
      "-----------------------------------------------------------\n",
      "Epoch --> 1\n",
      "Train Loss --> 22.02076530456543\n",
      "Train Accuracy --> 0.341125\n",
      "Validation Loss --> 27.991174697875977\n",
      "Validation Accuracy --> 0.4012006003001501\n",
      "-----------------------------------------------------------\n",
      "Epoch --> 2\n",
      "Train Loss --> 25.492965698242188\n",
      "Train Accuracy --> 0.4245\n",
      "Validation Loss --> 18.1383113861084\n",
      "Validation Accuracy --> 0.5052526263131566\n",
      "-----------------------------------------------------------\n",
      "Epoch --> 3\n",
      "Train Loss --> 22.986249923706055\n",
      "Train Accuracy --> 0.487\n",
      "Validation Loss --> 18.42642593383789\n",
      "Validation Accuracy --> 0.535767883941971\n",
      "-----------------------------------------------------------\n",
      "Epoch --> 4\n",
      "Train Loss --> 26.38643455505371\n",
      "Train Accuracy --> 0.494125\n",
      "Validation Loss --> 23.997695922851562\n",
      "Validation Accuracy --> 0.5307653826913457\n",
      "-----------------------------------------------------------\n"
     ]
    },
    {
     "name": "stderr",
     "output_type": "stream",
     "text": [
      "wandb: Network error (ConnectionError), entering retry loop.\n",
      "\u001b[34m\u001b[1mwandb\u001b[0m: Network error (ConnectionError), entering retry loop.\n"
     ]
    },
    {
     "name": "stdout",
     "output_type": "stream",
     "text": [
      "Epoch --> 5\n",
      "Train Loss --> 21.692285537719727\n",
      "Train Accuracy --> 0.55\n",
      "Validation Loss --> 23.570619583129883\n",
      "Validation Accuracy --> 0.5672836418209104\n",
      "-----------------------------------------------------------\n",
      "Epoch --> 6\n",
      "Train Loss --> 25.332639694213867\n",
      "Train Accuracy --> 0.552625\n",
      "Validation Loss --> 24.127452850341797\n",
      "Validation Accuracy --> 0.5692846423211606\n",
      "-----------------------------------------------------------\n",
      "Epoch --> 7\n",
      "Train Loss --> 21.726051330566406\n",
      "Train Accuracy --> 0.597375\n",
      "Validation Loss --> 24.587656021118164\n",
      "Validation Accuracy --> 0.6173086543271635\n",
      "-----------------------------------------------------------\n",
      "Epoch --> 8\n",
      "Train Loss --> 27.96365737915039\n",
      "Train Accuracy --> 0.593625\n",
      "Validation Loss --> 27.495100021362305\n",
      "Validation Accuracy --> 0.6193096548274137\n",
      "-----------------------------------------------------------\n",
      "Epoch --> 9\n",
      "Train Loss --> 24.510570526123047\n",
      "Train Accuracy --> 0.625\n",
      "Validation Loss --> 21.219383239746094\n",
      "Validation Accuracy --> 0.6418209104552276\n",
      "-----------------------------------------------------------\n"
     ]
    },
    {
     "data": {
      "text/html": [
       "<style>\n",
       "    table.wandb td:nth-child(1) { padding: 0 10px; text-align: left ; width: auto;} td:nth-child(2) {text-align: left ; width: 100%}\n",
       "    .wandb-row { display: flex; flex-direction: row; flex-wrap: wrap; justify-content: flex-start; width: 100% }\n",
       "    .wandb-col { display: flex; flex-direction: column; flex-basis: 100%; flex: 1; padding: 10px; }\n",
       "    </style>\n",
       "<div class=\"wandb-row\"><div class=\"wandb-col\"><h3>Run history:</h3><br/><table class=\"wandb\"><tr><td>epoch</td><td>▁▂▃▃▄▅▆▆▇█</td></tr><tr><td>tr_accuracy</td><td>▁▂▄▅▅▆▆▇▇█</td></tr><tr><td>tr_loss</td><td>▁▆▇▆▇▆▇▆█▇</td></tr><tr><td>val_accuracy</td><td>▁▃▅▆▆▇▇███</td></tr><tr><td>val_loss</td><td>▂█▁▁▅▅▅▆█▃</td></tr></table><br/></div><div class=\"wandb-col\"><h3>Run summary:</h3><br/><table class=\"wandb\"><tr><td>epoch</td><td>10</td></tr><tr><td>tr_accuracy</td><td>0.625</td></tr><tr><td>tr_loss</td><td>24.51057</td></tr><tr><td>val_accuracy</td><td>0.64182</td></tr><tr><td>val_loss</td><td>21.21938</td></tr></table><br/></div></div>"
      ],
      "text/plain": [
       "<IPython.core.display.HTML object>"
      ]
     },
     "metadata": {},
     "output_type": "display_data"
    },
    {
     "data": {
      "text/html": [
       " View run <strong style=\"color:#cdcd00\">toasty-sweep-1</strong> at: <a href='https://wandb.ai/cs23m070/cs6910_assignment2/runs/fwubj5xd' target=\"_blank\">https://wandb.ai/cs23m070/cs6910_assignment2/runs/fwubj5xd</a><br/>Synced 6 W&B file(s), 0 media file(s), 0 artifact file(s) and 0 other file(s)"
      ],
      "text/plain": [
       "<IPython.core.display.HTML object>"
      ]
     },
     "metadata": {},
     "output_type": "display_data"
    },
    {
     "data": {
      "text/html": [
       "Find logs at: <code>./wandb/run-20240403_193912-fwubj5xd/logs</code>"
      ],
      "text/plain": [
       "<IPython.core.display.HTML object>"
      ]
     },
     "metadata": {},
     "output_type": "display_data"
    }
   ],
   "source": [
    "wandb.agent(sweep_id, function=train, count=1)\n",
    "wandb.finish()"
   ]
  },
  {
   "cell_type": "code",
   "execution_count": null,
   "metadata": {},
   "outputs": [],
   "source": []
  }
 ],
 "metadata": {
  "kernelspec": {
   "display_name": "dl",
   "language": "python",
   "name": "python3"
  },
  "language_info": {
   "codemirror_mode": {
    "name": "ipython",
    "version": 3
   },
   "file_extension": ".py",
   "mimetype": "text/x-python",
   "name": "python",
   "nbconvert_exporter": "python",
   "pygments_lexer": "ipython3",
   "version": "3.10.13"
  }
 },
 "nbformat": 4,
 "nbformat_minor": 2
}
