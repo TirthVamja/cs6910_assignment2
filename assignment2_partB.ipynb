{
 "cells": [
  {
   "cell_type": "code",
   "execution_count": 1,
   "metadata": {},
   "outputs": [],
   "source": [
    "from torch.nn import Sequential, Module, ReLU, Conv2d, Linear, MaxPool2d, LogSoftmax, NLLLoss, Dropout, BatchNorm2d, LeakyReLU, GELU, SELU, Mish\n",
    "from torchvision import transforms, datasets, models\n",
    "from torch.utils.data import DataLoader\n",
    "from torch import flatten, float, no_grad\n",
    "from torch.optim import Adam\n",
    "import torch\n",
    "import wandb\n",
    "import math"
   ]
  },
  {
   "cell_type": "code",
   "execution_count": 2,
   "metadata": {},
   "outputs": [],
   "source": [
    "def get_data(param, type):\n",
    "    if(type.lower() == 'train'):\n",
    "        transform = transforms.Compose([\n",
    "            transforms.RandomResizedCrop(size=256, scale=(0.8, 1.0)),\n",
    "            transforms.RandomHorizontalFlip(p=0.3),\n",
    "            transforms.RandomRotation(degrees=12),\n",
    "            transforms.ColorJitter(),\n",
    "            transforms.CenterCrop(size=224),\n",
    "            transforms.ToTensor(), \n",
    "            transforms.Normalize(mean = [0.485, 0.456, 0.406], std = [0.229, 0.224, 0.225])  \n",
    "        ])\n",
    "\n",
    "        tdataset = datasets.ImageFolder(root=param['train_data_dir'], transform=transform)\n",
    "        total = len(tdataset)\n",
    "        train_sample = math.ceil(total*(0.8))\n",
    "        val_sample = total-train_sample\n",
    "        # print(total, train_sample, val_sample)\n",
    "        train_dataset, validation_dataset = torch.utils.data.random_split(tdataset, [train_sample, val_sample])\n",
    "        train_dataloader = DataLoader(train_dataset, batch_size=param['batch_size'], shuffle=True)\n",
    "        validation_dataloader = DataLoader(validation_dataset, batch_size=param['batch_size'], shuffle=False)\n",
    "        return train_dataloader, validation_dataloader\n",
    "    \n",
    "    else:\n",
    "        transform = transforms.Compose([\n",
    "            transforms.RandomResizedCrop(size=256, scale=(0.8, 1.0)),\n",
    "            transforms.CenterCrop(size=224),\n",
    "            transforms.ToTensor(), \n",
    "            transforms.Normalize(mean = [0.485, 0.456, 0.406], std = [0.229, 0.224, 0.225])  \n",
    "        ])\n",
    "        test_dataset = datasets.ImageFolder(root=param['test_data_dir'], transform=transform)\n",
    "        test_dataloader = DataLoader(test_dataset, batch_size=param['batch_size'])\n",
    "        return test_dataloader"
   ]
  },
  {
   "cell_type": "markdown",
   "metadata": {},
   "source": [
    "## Transfer Learning using VGG16 model"
   ]
  },
  {
   "cell_type": "code",
   "execution_count": 41,
   "metadata": {},
   "outputs": [],
   "source": [
    "def train():\n",
    "\n",
    "    # wandb.init()\n",
    "    # param = wandb.config\n",
    "    # wandb.run.name = f'vgg16_drpOut_{param.dropout}_batchSz_{param.batch_size}_neurons_{param.dense_neurons}_epochs_{param.epochs}'\n",
    "\n",
    "    param = {\n",
    "        \"dropout\": 0.3,\n",
    "        \"batch_size\": 32,\n",
    "        \"epochs\": 5,\n",
    "        \"dense_neurons\": 128,\n",
    "        \"train_data_dir\": \"./data/train\",\n",
    "        \"test_data_dir\": \"./data/val\"\n",
    "    }\n",
    "\n",
    "\n",
    "    device = torch.device(\"mps\" if torch.backends.mps.is_available() else \"cpu\")\n",
    "    model = models.vgg16(pretrained=True)\n",
    "\n",
    "    # print(model.classifier[3].in_features)\n",
    "    # print(model.classifier)\n",
    "    # print(model)\n",
    "    new_classifier = Sequential(\n",
    "        Linear(in_features=25088, out_features=4096, bias=True),\n",
    "        ReLU(inplace=True),\n",
    "        Dropout(p=0.5, inplace=False),\n",
    "        Linear(in_features=4096, out_features=4096, bias=True),\n",
    "        ReLU(inplace=True),\n",
    "        Dropout(p=0.5, inplace=False),\n",
    "        Linear(in_features=4096, out_features=10, bias=True)\n",
    "    )\n",
    "    model.classifier = new_classifier\n",
    "    for x in model.parameters():\n",
    "        x.requires_grad = False\n",
    "    model.classifier[5].requires_grad = True\n",
    "    model.classifier[6].requires_grad = True\n",
    "    # print(model)\n",
    "    for x in model.parameters():\n",
    "        print(x.requires_grad)\n",
    "    # model.classifier[6] = Sequential(\n",
    "    #     Linear(in_features=4096, out_features=param['dense_neurons']), \n",
    "    #     ReLU(), \n",
    "    #     Dropout(param['dropout']),\n",
    "    #     Linear(in_features=param['dense_neurons'], out_features=10),                   \n",
    "    #     LogSoftmax(dim=1)\n",
    "    # )\n",
    "    # model.classifier[6] = L\n",
    "    \n",
    "    \n",
    "    \n",
    "    \n",
    "    # inear(in_features=model.classifier[3].in_features, out_features=param['dense_neurons'])\n",
    "    # model.classifier.add(ReLU())\n",
    "    # model.classifier.add(Dropout(param['dropout']))\n",
    "    # print(model.classifier)\n",
    "\n",
    "    '''\n",
    "    total_params = sum(p.numel() for p in model.parameters())\n",
    "    print(f'{total_params:,} total parameters.')\n",
    "    total_trainable_params = sum(\n",
    "        p.numel() for p in model.parameters() if p.requires_grad)\n",
    "    print(f'{total_trainable_params:,} training parameters.')\n",
    "\n",
    "    model = model.to(device)\n",
    "    optimizer = Adam(model.parameters())\n",
    "    loss_function = NLLLoss()\n",
    "    train_data_loader, validation_data_loader = get_data(param, 'train')\n",
    "\n",
    "    for epo in param['epochs']:\n",
    "        totalTrainLoss = 0\n",
    "        totalValLoss = 0\n",
    "        trainCorrect = 0\n",
    "        valCorrect = 0\n",
    "        train_counter=0\n",
    "        validation_counter=0\n",
    "        for (image, label) in train_data_loader:\n",
    "            (image, label) = (image.to(device), label.to(device))\n",
    "            prediction = model(image)\n",
    "            loss = loss_function(prediction, label)\n",
    "            ## no optimize.zero_grad() ...\n",
    "            loss.backward()\n",
    "            optimizer.step()\n",
    "\n",
    "            totalTrainLoss += loss\n",
    "            trainCorrect += (prediction.argmax(1) == label).type(float).sum().item()\n",
    "            train_counter+=1\n",
    "            print(train_counter)\n",
    "\n",
    "        \n",
    "        for (image, label) in validation_data_loader:\n",
    "            pred = model(image)\n",
    "            loss = loss_function(pred, label)\n",
    "            totalValLoss += loss\n",
    "            valCorrect += (pred.argmax(1) == label).type(float).sum().item()\n",
    "            validation_counter += 1\n",
    "\n",
    "        tr_ls = (totalTrainLoss/train_counter).cpu().detach().numpy()\n",
    "        tr_acc = trainCorrect/len(train_data_loader.dataset)\n",
    "        val_ls = (totalValLoss/validation_counter).cpu().detach().numpy()\n",
    "        val_acc = valCorrect/len(validation_data_loader.dataset)\n",
    "        print(f\"Epoch --> {epo}\")\n",
    "        print(f\"Train Loss --> {tr_ls}\")\n",
    "        print(f\"Train Accuracy --> {tr_acc}\")\n",
    "        print(f\"Validation Loss --> {val_ls}\")\n",
    "        print(f\"Validation Accuracy --> {val_acc}\")\n",
    "        \n",
    "        # lg={\n",
    "        #     'epoch': epo+1,\n",
    "        #     'tr_accuracy': tr_acc,\n",
    "        #     'val_accuracy': val_acc,\n",
    "        #     'tr_loss': tr_ls,\n",
    "        #     'val_loss': val_ls\n",
    "        # }\n",
    "        # wandb.log(lg)\n",
    "\n",
    "    # torch.save(model, checkpoint_path)\n",
    "\n",
    "    '''    \n",
    "    "
   ]
  },
  {
   "cell_type": "code",
   "execution_count": 42,
   "metadata": {},
   "outputs": [
    {
     "name": "stdout",
     "output_type": "stream",
     "text": [
      "False\n",
      "False\n",
      "False\n",
      "False\n",
      "False\n",
      "False\n",
      "False\n",
      "False\n",
      "False\n",
      "False\n",
      "False\n",
      "False\n",
      "False\n",
      "False\n",
      "False\n",
      "False\n",
      "False\n",
      "False\n",
      "False\n",
      "False\n",
      "False\n",
      "False\n",
      "False\n",
      "False\n",
      "False\n",
      "False\n",
      "False\n",
      "False\n",
      "False\n",
      "False\n",
      "False\n",
      "False\n"
     ]
    }
   ],
   "source": [
    "train()"
   ]
  },
  {
   "cell_type": "code",
   "execution_count": 20,
   "metadata": {},
   "outputs": [],
   "source": [
    "sweep_config = {\n",
    "  \"method\": \"grid\",  # Use grid search for this example\n",
    "  \"name\": \"PartB VGG16 Sweep\",\n",
    "  \"metric\": {\"goal\": \"maximize\", \"name\": \"val_accuracy\"},\n",
    "  \"parameters\": {\n",
    "    \"dropout\":{\"values\": [0.3]},  # Dropout rates\n",
    "    \"batch_size\":{\"values\": [32]},\n",
    "    \"epochs\":{\"values\": [5]},\n",
    "    \"dense_neurons\":{\"values\": [128]},\n",
    "    \"train_data_dir\":{\"values\": [\"./data/train\"]},\n",
    "    \"test_data_dir\":{\"values\": [\"./data/val\"]}\n",
    "  }\n",
    "}"
   ]
  },
  {
   "cell_type": "code",
   "execution_count": 21,
   "metadata": {},
   "outputs": [
    {
     "name": "stdout",
     "output_type": "stream",
     "text": [
      "Create sweep with ID: t1cg6a4y\n",
      "Sweep URL: https://wandb.ai/cs23m070/cs6910_assignment2/sweeps/t1cg6a4y\n"
     ]
    }
   ],
   "source": [
    "# wandb.init()\n",
    "sweep_id = wandb.sweep(sweep_config, project=\"cs6910_assignment2\")"
   ]
  },
  {
   "cell_type": "code",
   "execution_count": 22,
   "metadata": {},
   "outputs": [
    {
     "name": "stderr",
     "output_type": "stream",
     "text": [
      "\u001b[34m\u001b[1mwandb\u001b[0m: Agent Starting Run: euvrg5lb with config:\n",
      "\u001b[34m\u001b[1mwandb\u001b[0m: \tbatch_size: 32\n",
      "\u001b[34m\u001b[1mwandb\u001b[0m: \tdense_neurons: 128\n",
      "\u001b[34m\u001b[1mwandb\u001b[0m: \tdropout: 0.3\n",
      "\u001b[34m\u001b[1mwandb\u001b[0m: \tepochs: 5\n",
      "\u001b[34m\u001b[1mwandb\u001b[0m: \ttest_data_dir: ./data/val\n",
      "\u001b[34m\u001b[1mwandb\u001b[0m: \ttrain_data_dir: ./data/train\n",
      "Failed to detect the name of this notebook, you can set it manually with the WANDB_NOTEBOOK_NAME environment variable to enable code saving.\n"
     ]
    },
    {
     "data": {
      "text/html": [
       "wandb version 0.16.5 is available!  To upgrade, please run:\n",
       " $ pip install wandb --upgrade"
      ],
      "text/plain": [
       "<IPython.core.display.HTML object>"
      ]
     },
     "metadata": {},
     "output_type": "display_data"
    },
    {
     "data": {
      "text/html": [
       "Tracking run with wandb version 0.16.4"
      ],
      "text/plain": [
       "<IPython.core.display.HTML object>"
      ]
     },
     "metadata": {},
     "output_type": "display_data"
    },
    {
     "data": {
      "text/html": [
       "Run data is saved locally in <code>/Users/tirth/Documents/SEM2/DL/assignment/A2/code/cs6910_assignment2/wandb/run-20240402_121303-euvrg5lb</code>"
      ],
      "text/plain": [
       "<IPython.core.display.HTML object>"
      ]
     },
     "metadata": {},
     "output_type": "display_data"
    },
    {
     "data": {
      "text/html": [
       "Syncing run <strong><a href='https://wandb.ai/cs23m070/cs6910_assignment2/runs/euvrg5lb' target=\"_blank\">smooth-sweep-1</a></strong> to <a href='https://wandb.ai/cs23m070/cs6910_assignment2' target=\"_blank\">Weights & Biases</a> (<a href='https://wandb.me/run' target=\"_blank\">docs</a>)<br/>Sweep page: <a href='https://wandb.ai/cs23m070/cs6910_assignment2/sweeps/t1cg6a4y' target=\"_blank\">https://wandb.ai/cs23m070/cs6910_assignment2/sweeps/t1cg6a4y</a>"
      ],
      "text/plain": [
       "<IPython.core.display.HTML object>"
      ]
     },
     "metadata": {},
     "output_type": "display_data"
    },
    {
     "data": {
      "text/html": [
       " View project at <a href='https://wandb.ai/cs23m070/cs6910_assignment2' target=\"_blank\">https://wandb.ai/cs23m070/cs6910_assignment2</a>"
      ],
      "text/plain": [
       "<IPython.core.display.HTML object>"
      ]
     },
     "metadata": {},
     "output_type": "display_data"
    },
    {
     "data": {
      "text/html": [
       " View sweep at <a href='https://wandb.ai/cs23m070/cs6910_assignment2/sweeps/t1cg6a4y' target=\"_blank\">https://wandb.ai/cs23m070/cs6910_assignment2/sweeps/t1cg6a4y</a>"
      ],
      "text/plain": [
       "<IPython.core.display.HTML object>"
      ]
     },
     "metadata": {},
     "output_type": "display_data"
    },
    {
     "data": {
      "text/html": [
       " View run at <a href='https://wandb.ai/cs23m070/cs6910_assignment2/runs/euvrg5lb' target=\"_blank\">https://wandb.ai/cs23m070/cs6910_assignment2/runs/euvrg5lb</a>"
      ],
      "text/plain": [
       "<IPython.core.display.HTML object>"
      ]
     },
     "metadata": {},
     "output_type": "display_data"
    },
    {
     "name": "stderr",
     "output_type": "stream",
     "text": [
      "/Users/tirth/anaconda3/envs/dl/lib/python3.10/site-packages/torchvision/models/_utils.py:208: UserWarning: The parameter 'pretrained' is deprecated since 0.13 and may be removed in the future, please use 'weights' instead.\n",
      "  warnings.warn(\n",
      "/Users/tirth/anaconda3/envs/dl/lib/python3.10/site-packages/torchvision/models/_utils.py:223: UserWarning: Arguments other than a weight enum or `None` for 'weights' are deprecated since 0.13 and may be removed in the future. The current behavior is equivalent to passing `weights=VGG16_Weights.IMAGENET1K_V1`. You can also use `weights=VGG16_Weights.DEFAULT` to get the most up-to-date weights.\n",
      "  warnings.warn(msg)\n"
     ]
    },
    {
     "data": {
      "text/html": [
       " View run <strong style=\"color:#cdcd00\">smooth-sweep-1</strong> at: <a href='https://wandb.ai/cs23m070/cs6910_assignment2/runs/euvrg5lb' target=\"_blank\">https://wandb.ai/cs23m070/cs6910_assignment2/runs/euvrg5lb</a><br/>Synced 6 W&B file(s), 0 media file(s), 0 artifact file(s) and 0 other file(s)"
      ],
      "text/plain": [
       "<IPython.core.display.HTML object>"
      ]
     },
     "metadata": {},
     "output_type": "display_data"
    },
    {
     "data": {
      "text/html": [
       "Find logs at: <code>./wandb/run-20240402_121303-euvrg5lb/logs</code>"
      ],
      "text/plain": [
       "<IPython.core.display.HTML object>"
      ]
     },
     "metadata": {},
     "output_type": "display_data"
    },
    {
     "name": "stderr",
     "output_type": "stream",
     "text": [
      "Run euvrg5lb errored:\n",
      "Traceback (most recent call last):\n",
      "  File \"/Users/tirth/anaconda3/envs/dl/lib/python3.10/site-packages/wandb/agents/pyagent.py\", line 308, in _run_job\n",
      "    self._function()\n",
      "  File \"/var/folders/6f/x1kv14zj6zqb4mjy03x74_m80000gn/T/ipykernel_1210/2580241278.py\", line 13, in train\n",
      "    Linear(in_features=4096, out_features=param['dense_neurons']),\n",
      "IndexError: too many indices for tensor of dimension 1\n",
      "\n",
      "\u001b[34m\u001b[1mwandb\u001b[0m: \u001b[32m\u001b[41mERROR\u001b[0m Run euvrg5lb errored:\n",
      "\u001b[34m\u001b[1mwandb\u001b[0m: \u001b[32m\u001b[41mERROR\u001b[0m Traceback (most recent call last):\n",
      "\u001b[34m\u001b[1mwandb\u001b[0m: \u001b[32m\u001b[41mERROR\u001b[0m   File \"/Users/tirth/anaconda3/envs/dl/lib/python3.10/site-packages/wandb/agents/pyagent.py\", line 308, in _run_job\n",
      "\u001b[34m\u001b[1mwandb\u001b[0m: \u001b[32m\u001b[41mERROR\u001b[0m     self._function()\n",
      "\u001b[34m\u001b[1mwandb\u001b[0m: \u001b[32m\u001b[41mERROR\u001b[0m   File \"/var/folders/6f/x1kv14zj6zqb4mjy03x74_m80000gn/T/ipykernel_1210/2580241278.py\", line 13, in train\n",
      "\u001b[34m\u001b[1mwandb\u001b[0m: \u001b[32m\u001b[41mERROR\u001b[0m     Linear(in_features=4096, out_features=param['dense_neurons']),\n",
      "\u001b[34m\u001b[1mwandb\u001b[0m: \u001b[32m\u001b[41mERROR\u001b[0m IndexError: too many indices for tensor of dimension 1\n",
      "\u001b[34m\u001b[1mwandb\u001b[0m: \u001b[32m\u001b[41mERROR\u001b[0m \n"
     ]
    }
   ],
   "source": [
    "wandb.agent(sweep_id, function=train, count=1)\n",
    "wandb.finish()"
   ]
  },
  {
   "cell_type": "code",
   "execution_count": null,
   "metadata": {},
   "outputs": [],
   "source": []
  }
 ],
 "metadata": {
  "kernelspec": {
   "display_name": "dl",
   "language": "python",
   "name": "python3"
  },
  "language_info": {
   "codemirror_mode": {
    "name": "ipython",
    "version": 3
   },
   "file_extension": ".py",
   "mimetype": "text/x-python",
   "name": "python",
   "nbconvert_exporter": "python",
   "pygments_lexer": "ipython3",
   "version": "3.10.13"
  }
 },
 "nbformat": 4,
 "nbformat_minor": 2
}
